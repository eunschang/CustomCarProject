{
  "nbformat": 4,
  "nbformat_minor": 0,
  "metadata": {
    "kernelspec": {
      "display_name": "Python 3",
      "language": "python",
      "name": "python3"
    },
    "language_info": {
      "codemirror_mode": {
        "name": "ipython",
        "version": 3
      },
      "file_extension": ".py",
      "mimetype": "text/x-python",
      "name": "python",
      "nbconvert_exporter": "python",
      "pygments_lexer": "ipython3",
      "version": "3.6.7"
    },
    "colab": {
      "provenance": [],
      "include_colab_link": true
    }
  },
  "cells": [
    {
      "cell_type": "markdown",
      "metadata": {
        "id": "view-in-github",
        "colab_type": "text"
      },
      "source": [
        "<a href=\"https://colab.research.google.com/github/eunschang/CustomCarProject/blob/main/2023_Final_Hackathon_Blackjack.ipynb\" target=\"_parent\"><img src=\"https://colab.research.google.com/assets/colab-badge.svg\" alt=\"Open In Colab\"/></a>"
      ]
    },
    {
      "cell_type": "markdown",
      "metadata": {
        "id": "wGVXIFHw9x52"
      },
      "source": [
        "## <font color='red'>Software Developer Foundations - Mid-Course Hackathon</font>\n",
        "\n",
        "### Play Blackjack\n",
        "For this coding workshop, you will implement a 2-player game of Blackjack.  If you are unsure about how Blackjack is played, you may please ask an instructor or review the [Rules of Blackjack](https://www.blackjackapprenticeship.com/how-to-play-blackjack/).\n",
        "\n",
        "#### Assumptions\n",
        "    Player 1 will always go first and get all of his/her cards\n",
        "    Player 2 will always follow Player 1 and have the advantage of knowing Player 1's hand.\n",
        "    The Ace card will always count as a one (1)"
      ]
    },
    {
      "cell_type": "markdown",
      "metadata": {
        "id": "DTpWauyS9x58"
      },
      "source": [
        "#### Let's Begin!"
      ]
    },
    {
      "cell_type": "markdown",
      "metadata": {
        "id": "1xRvDs6_9x59"
      },
      "source": [
        "Import the _random_ module"
      ]
    },
    {
      "cell_type": "code",
      "metadata": {
        "id": "IcAKYpNc9x59"
      },
      "source": [
        "# Import the random module here\n",
        "import random"
      ],
      "execution_count": 2,
      "outputs": []
    },
    {
      "cell_type": "markdown",
      "metadata": {
        "id": "ZMhyGYxx9x5-"
      },
      "source": [
        "Create a dictionary of cards that will be used in the game.  You should use the \"card name\" as the key and it's \"blackjack value\" as the value.  For example, a 'jack' should have the value 10, etc."
      ]
    },
    {
      "cell_type": "code",
      "metadata": {
        "id": "HgWk-fry9x5-"
      },
      "source": [
        "# Create cards dictionary\n",
        "cards = {'Ace':1, '2':2, '3':3, '4':4, '5':5, '6':6, '7':7, '8':8, '9':9, '10':10, 'Jack':10, 'Queen':10, 'King':10}"
      ],
      "execution_count": 8,
      "outputs": []
    },
    {
      "cell_type": "markdown",
      "metadata": {
        "id": "G886NhC79x5-"
      },
      "source": [
        "Define a string variable named *reportScore* that is assigned a string literal with a '{}' placeholder.  The string literal will inform the user of the \"Current score\". We'll use this later."
      ]
    },
    {
      "cell_type": "code",
      "metadata": {
        "id": "9tRupvMU9x5_"
      },
      "source": [
        "# Create reportScore\n",
        "def report_score(score):\n",
        "  # Add content for the report_score function\n",
        "  print(\"Your score is: \", score)\n",
        "  if score > 21:\n",
        "    print (\"You Busted!\", score)\n",
        "  elif score == 21:\n",
        "    print (\"Blackjack!\", score)\n",
        "  else:\n",
        "    print (\"Your Score Is: \", score)"
      ],
      "execution_count": 9,
      "outputs": []
    },
    {
      "cell_type": "markdown",
      "metadata": {
        "id": "hWIIassl9x5_"
      },
      "source": [
        "### Create a function named \"getCard\" that randomly draws a card from the _cards_ dictionary and returns the associated value.\n",
        "1. Use the *random.choice()* function to draw a single **card name** from the _cards_ dictionary.  \n",
        "__NOTE: We will not keep track of cards that have already been drawn.__\n",
        "2. Display the card that was randomly drawn using a print statement.\n",
        "3. Return the **value** of the drawn card.\n",
        "\n",
        "##### Test the function using a function call to getCard"
      ]
    },
    {
      "cell_type": "code",
      "metadata": {
        "id": "BDgp2-JC9x5_"
      },
      "source": [
        "# Create the getCard() function\n",
        "def getCard():\n",
        "    # delete this line after you've coded it\n",
        "    print(\"Put your getCard code here.\")\n",
        "\n",
        "# Testing getCard()\n",
        "# Delete this call after you've completed this function definition\n",
        "getCard()"
      ],
      "execution_count": null,
      "outputs": []
    },
    {
      "cell_type": "markdown",
      "metadata": {
        "id": "jqOb3ysE9x5_"
      },
      "source": [
        "### Define a function called _declareWinner()_\n",
        "- It will have two integer arguments:  Player 1's score and Player 2's score.\n",
        "- Depending on the higher score, it will display (print) which player is the winner OR state that the game was a tie.\n",
        "HINT:  Think of the example in the written assessment\n",
        "\n",
        "##### Test the function using a function call to declareWinner()"
      ]
    },
    {
      "cell_type": "code",
      "metadata": {
        "id": "bPKY0Gna9x6A"
      },
      "source": [
        "# Declare declareWinner(). It has two arguments.\n",
        "def declareWinner():\n",
        "    # delete this line after you've coded it\n",
        "    print(\"Put your declareWinner code here.\")\n",
        "# If over 21, they automatically lose\n",
        "# Don't forget to test here by calling declareWinner() below using 2 parameters\n",
        "declareWinner()"
      ],
      "execution_count": null,
      "outputs": []
    },
    {
      "cell_type": "markdown",
      "metadata": {
        "id": "KlvtFCBv9x6A"
      },
      "source": [
        "### Define a function called _playHand()_\n",
        "\n",
        "- This function takes one argument:  A string that describes who is playing the hand (Player 1 or Player 2).\n",
        "- This function returns the final score of the player's hand\n",
        "\n",
        "There are comments that describe how to write this function.  Here's the summary:\n",
        "\n",
        "- Initialize a variable _score_ to zero\n",
        "- Display the string argument\n",
        "- Deal two cards and sum the scores.\n",
        "- Check if the score is 21 then return the score.\n",
        "- Otherwise, you'll need to create a loop that does the following:\n",
        "    a) Report the current score\n",
        "    b) Ask the player if they want to \"hit or stay\". If they choose to take a \"hit\", then you'll need to deal them another card and add to their total card value.\n",
        "    b) Check if the total card value is > 21. If so, display 'You've busted.' and break out of the loop.\n",
        "- Return the total value AFTER the while loop."
      ]
    },
    {
      "cell_type": "code",
      "metadata": {
        "id": "h8pH3zFS9x6A",
        "outputId": "a55ffbb0-3fd5-4b73-e7e0-11c1e6ee0309",
        "colab": {
          "base_uri": "https://localhost:8080/",
          "height": 143
        }
      },
      "source": [
        "def playHand(playerTurn):\n",
        "\n",
        "    # Initialize the score of the current hand\n",
        "\n",
        "    # Print out the playerTurn\n",
        "\n",
        "    # Deal two cards and add the scores\n",
        "\n",
        "    # If the score is 21, display \"Blackjack!\" and return that score\n",
        "\n",
        "    # Otherwise determine if the player wants to 'hit' or 'stay'\n",
        "    else:\n",
        "        while True:\n",
        "\n",
        "            # Report the current score using reportScore in a format() string\n",
        "\n",
        "            # Ask if the player wants to hit or stay.  Get the user input.\n",
        "\n",
        "            # if they 'hit', get a card and add the score to the running total score\n",
        "            # else if they 'stay' print a blank line and break out of the while loop\n",
        "            # else if they enter neither 'hit' nor 'stay', display 'Invalid entry'\n",
        "            # and continue the loop\n",
        "\n",
        "             # if the score is bigger than 21 display \"You bust!\" and set score to 0.  Return score.\n",
        "\n",
        "    # return the final score of the hand\n",
        "\n",
        "# Don't forget to test here by calling playHand(\"Player 1's turn\") below"
      ],
      "execution_count": 8,
      "outputs": [
        {
          "output_type": "error",
          "ename": "SyntaxError",
          "evalue": "ignored",
          "traceback": [
            "\u001b[0;36m  File \u001b[0;32m\"<ipython-input-8-f1ec5deb6675>\"\u001b[0;36m, line \u001b[0;32m12\u001b[0m\n\u001b[0;31m    else:\u001b[0m\n\u001b[0m    ^\u001b[0m\n\u001b[0;31mSyntaxError\u001b[0m\u001b[0;31m:\u001b[0m invalid syntax\n"
          ]
        }
      ]
    },
    {
      "cell_type": "markdown",
      "metadata": {
        "id": "gnha0al29x6B"
      },
      "source": [
        "### Define a function called _playGame_\n",
        "    \n",
        "This function will capture ONE game of Blackjack between two players\n",
        "    \n",
        "    1. Define two integer variables that maintain the score of player 1 and player 2.  Initialize them each to zero.\n",
        "    2. Play the hand for Player 1 by calling _playHand()_.  You should pass a string announcing who's turn it is.  Be sure to capture the returned score of that hand.\n",
        "    3. Do the same for Player 2\n",
        "    4. Call _declareWinner()_ by passing it the player scores."
      ]
    },
    {
      "cell_type": "code",
      "metadata": {
        "id": "BvMsaYgO9x6B",
        "outputId": "de156c7f-ab77-4254-dd9c-0582ca8003d1",
        "colab": {
          "base_uri": "https://localhost:8080/",
          "height": 143
        }
      },
      "source": [
        "# Define the playGame() function\n",
        "def playGame():\n",
        "  score P1 = 0\n",
        "  score P2 = 0\n",
        "\n",
        "# Don't forget to test here by calling playGame() below"
      ],
      "execution_count": 1,
      "outputs": [
        {
          "output_type": "error",
          "ename": "SyntaxError",
          "evalue": "ignored",
          "traceback": [
            "\u001b[0;36m  File \u001b[0;32m\"<ipython-input-1-c6eabad5395f>\"\u001b[0;36m, line \u001b[0;32m4\u001b[0m\n\u001b[0;31m    # Don't forget to test here by calling playGame() below\u001b[0m\n\u001b[0m                                                           ^\u001b[0m\n\u001b[0;31mSyntaxError\u001b[0m\u001b[0;31m:\u001b[0m incomplete input\n"
          ]
        }
      ]
    },
    {
      "cell_type": "markdown",
      "metadata": {
        "id": "lnjA6zFf9x6B"
      },
      "source": [
        "### Create the 'driver loop'\n",
        "\n",
        "You need to create a function called _main()_ that determines whether the user wants to play a 2-player hand of Blackjack.\n",
        "- _while_ loop that interactively asks the user for input. Does he/she want to play a hand of Blackjack?  \n",
        "- This loop will invoke the _playGame()_ function defined above if the user wants to play.  \n",
        "- Otherwise, if they do not want to play, you'll display \"Goodbye!\" and exit the game.\n",
        "\n",
        "NOTE:  Remember to make this _while_ loop an \"infinite while loop\"."
      ]
    },
    {
      "cell_type": "code",
      "metadata": {
        "id": "QHfDGpbK9x6C"
      },
      "source": [
        "# Define a function called main()\n",
        "def main():\n",
        "\n",
        "\n",
        "# After the main function is defined above, call it below.\n",
        "# That's how the game gets started.\n",
        "main()"
      ],
      "execution_count": null,
      "outputs": []
    },
    {
      "cell_type": "markdown",
      "metadata": {
        "id": "nBaejAqn9x6C"
      },
      "source": [
        "## Test your game by playing multiple games\n",
        "\n",
        "You may need to restart the kernel and re-run the entire notebook by selecting `Runtime` from the menu and choosing `Restart and run all`."
      ]
    }
  ]
}